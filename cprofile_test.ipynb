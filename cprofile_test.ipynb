{
 "cells": [
  {
   "cell_type": "markdown",
   "metadata": {},
   "source": [
    "https://towardsdatascience.com/finding-performance-bottlenecks-in-python-4372598b7b2c"
   ]
  },
  {
   "cell_type": "code",
   "execution_count": 1,
   "metadata": {},
   "outputs": [],
   "source": [
    "import time\n",
    "\n",
    "def initial_setup():\n",
    "    a = 7\n",
    "    time.sleep(1)\n",
    "    return a"
   ]
  },
  {
   "cell_type": "code",
   "execution_count": 2,
   "metadata": {},
   "outputs": [],
   "source": [
    "def slow_function():\n",
    "    x = range(5)\n",
    "    for i in x:\n",
    "        a = initial_setup()\n",
    "        b = a + i\n",
    "        print(b)"
   ]
  },
  {
   "cell_type": "code",
   "execution_count": 4,
   "metadata": {},
   "outputs": [
    {
     "name": "stdout",
     "output_type": "stream",
     "text": [
      "7\n",
      "8\n",
      "9\n",
      "10\n",
      "11\n"
     ]
    }
   ],
   "source": [
    "slow_function()"
   ]
  },
  {
   "cell_type": "code",
   "execution_count": 7,
   "metadata": {},
   "outputs": [
    {
     "name": "stdout",
     "output_type": "stream",
     "text": [
      "7\n",
      "8\n",
      "9\n",
      "10\n",
      "11\n",
      "         172 function calls in 5.007 seconds\n",
      "\n",
      "   Random listing order was used\n",
      "\n",
      "   ncalls  tottime  percall  cumtime  percall filename:lineno(function)\n",
      "        5    5.005    1.001    5.005    1.001 {built-in method time.sleep}\n",
      "       10    0.000    0.000    0.000    0.000 {built-in method posix.getpid}\n",
      "       15    0.000    0.000    0.000    0.000 {method 'acquire' of '_thread.lock' objects}\n",
      "       15    0.000    0.000    0.000    0.000 {method 'append' of 'collections.deque' objects}\n",
      "       10    0.000    0.000    0.000    0.000 {built-in method builtins.isinstance}\n",
      "        5    0.000    0.000    0.001    0.000 {built-in method builtins.print}\n",
      "        1    0.000    0.000    5.007    5.007 <ipython-input-2-7c1d05122ba4>:1(slow_function)\n",
      "        5    0.000    0.000    5.005    1.001 <ipython-input-1-e4a26d807ee9>:3(initial_setup)\n",
      "       15    0.000    0.000    0.000    0.000 /usr/lib/python3/dist-packages/ipykernel/iostream.py:93(_event_pipe)\n",
      "       15    0.001    0.000    0.001    0.000 /usr/lib/python3/dist-packages/ipykernel/iostream.py:195(schedule)\n",
      "       10    0.000    0.000    0.000    0.000 /usr/lib/python3/dist-packages/ipykernel/iostream.py:300(_is_master_process)\n",
      "       10    0.000    0.000    0.000    0.000 /usr/lib/python3/dist-packages/ipykernel/iostream.py:313(_schedule_flush)\n",
      "       10    0.000    0.000    0.001    0.000 /usr/lib/python3/dist-packages/ipykernel/iostream.py:366(write)\n",
      "        1    0.000    0.000    0.000    0.000 {method 'disable' of '_lsprof.Profiler' objects}\n",
      "       15    0.000    0.000    0.000    0.000 /usr/lib/python3.6/threading.py:506(is_set)\n",
      "       15    0.000    0.000    0.000    0.000 /usr/lib/python3.6/threading.py:1062(_wait_for_tstate_lock)\n",
      "       15    0.000    0.000    0.000    0.000 /usr/lib/python3.6/threading.py:1104(is_alive)\n",
      "\n",
      "\n"
     ]
    },
    {
     "data": {
      "text/plain": [
       "<pstats.Stats at 0x7f4876837cf8>"
      ]
     },
     "execution_count": 7,
     "metadata": {},
     "output_type": "execute_result"
    }
   ],
   "source": [
    "import cProfile\n",
    "import pstats\n",
    "\n",
    "profile = cProfile.Profile()\n",
    "profile.runcall(slow_function)\n",
    "ps = pstats.Stats(profile)\n",
    "ps.print_stats()"
   ]
  },
  {
   "cell_type": "markdown",
   "metadata": {},
   "source": [
    "**Interpretation**:\n",
    "\n",
    "    1 ncalls: the number of times that the analyzed function has been called\n",
    "    2 tottime: the total execution time spent in the analyzed function (excluding the execution time of the subfunctions)\n",
    "    3 percall: tottime divided by ncalls\n",
    "    4 cumtime: the total execution time spent in the analyzed function (including the execution time of the subfunctions)\n",
    "    5 percall: cumtime divided by ncalls\n",
    "    6 filename:lineno(function): file, line number and analyzed function"
   ]
  },
  {
   "cell_type": "code",
   "execution_count": 8,
   "metadata": {},
   "outputs": [],
   "source": [
    "def slow_function():\n",
    "    profile = cProfile.Profile()\n",
    "    profile.enable()\n",
    "    \n",
    "    x = range(5)\n",
    "    for i in x:\n",
    "        a = initial_setup()\n",
    "        b = a + i\n",
    "        print(b)\n",
    "    \n",
    "    profile.disable()\n",
    "    ps = pstats.Stats(profile)\n",
    "    ps.print_stats()"
   ]
  },
  {
   "cell_type": "code",
   "execution_count": 9,
   "metadata": {},
   "outputs": [
    {
     "name": "stdout",
     "output_type": "stream",
     "text": [
      "7\n",
      "8\n",
      "9\n",
      "10\n",
      "11\n",
      "         171 function calls in 5.007 seconds\n",
      "\n",
      "   Random listing order was used\n",
      "\n",
      "   ncalls  tottime  percall  cumtime  percall filename:lineno(function)\n",
      "        5    5.005    1.001    5.005    1.001 {built-in method time.sleep}\n",
      "       10    0.000    0.000    0.000    0.000 {built-in method posix.getpid}\n",
      "       15    0.000    0.000    0.000    0.000 {method 'acquire' of '_thread.lock' objects}\n",
      "       15    0.000    0.000    0.000    0.000 {method 'append' of 'collections.deque' objects}\n",
      "       10    0.000    0.000    0.000    0.000 {built-in method builtins.isinstance}\n",
      "        5    0.000    0.000    0.002    0.000 {built-in method builtins.print}\n",
      "        5    0.000    0.000    5.005    1.001 <ipython-input-1-e4a26d807ee9>:3(initial_setup)\n",
      "       15    0.000    0.000    0.000    0.000 /usr/lib/python3/dist-packages/ipykernel/iostream.py:93(_event_pipe)\n",
      "       15    0.001    0.000    0.001    0.000 /usr/lib/python3/dist-packages/ipykernel/iostream.py:195(schedule)\n",
      "       10    0.000    0.000    0.000    0.000 /usr/lib/python3/dist-packages/ipykernel/iostream.py:300(_is_master_process)\n",
      "       10    0.000    0.000    0.000    0.000 /usr/lib/python3/dist-packages/ipykernel/iostream.py:313(_schedule_flush)\n",
      "       10    0.000    0.000    0.001    0.000 /usr/lib/python3/dist-packages/ipykernel/iostream.py:366(write)\n",
      "        1    0.000    0.000    0.000    0.000 {method 'disable' of '_lsprof.Profiler' objects}\n",
      "       15    0.000    0.000    0.000    0.000 /usr/lib/python3.6/threading.py:506(is_set)\n",
      "       15    0.000    0.000    0.000    0.000 /usr/lib/python3.6/threading.py:1062(_wait_for_tstate_lock)\n",
      "       15    0.000    0.000    0.000    0.000 /usr/lib/python3.6/threading.py:1104(is_alive)\n",
      "\n",
      "\n"
     ]
    }
   ],
   "source": [
    "slow_function()"
   ]
  }
 ],
 "metadata": {
  "kernelspec": {
   "display_name": "Python 3.6.9 64-bit",
   "language": "python",
   "name": "python36964bit7ef9f40235b54a9c866fc63a0dd38a3f"
  },
  "language_info": {
   "codemirror_mode": {
    "name": "ipython",
    "version": 3
   },
   "file_extension": ".py",
   "mimetype": "text/x-python",
   "name": "python",
   "nbconvert_exporter": "python",
   "pygments_lexer": "ipython3",
   "version": "3.6.9"
  }
 },
 "nbformat": 4,
 "nbformat_minor": 2
}
